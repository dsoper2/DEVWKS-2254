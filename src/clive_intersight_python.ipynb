{
 "cells": [
  {
   "cell_type": "markdown",
   "metadata": {},
   "source": [
    "# Intersight Python SDK\n",
    "\n",
    "If you are familiar Python, you can take advantage of the Intersight Python SDK available for install from the [Python Package Index](https://pypi.org/project/intersight/).\n",
    "\n",
    "![Python SDK for Cisco Intersight](images/python_sdk_pip.png)\n",
    "\n",
    "## Installation\n",
    "\n",
    "Notice the `pip install intersight` command. That's the command used to install the Python SDK in your environment.  Be sure you are using Python >= 3.7, earlier versions of Python are not supported."
   ]
  },
  {
   "cell_type": "code",
   "execution_count": 1,
   "metadata": {},
   "outputs": [
    {
     "name": "stdout",
     "output_type": "stream",
     "text": [
      "Requirement already satisfied: intersight in /usr/local/lib/python3.9/site-packages (1.0.9.5808)\n",
      "Requirement already satisfied: urllib3>=1.25.3 in /usr/local/lib/python3.9/site-packages (from intersight) (1.26.4)\n",
      "Requirement already satisfied: pem>=19.3.0 in /usr/local/lib/python3.9/site-packages (from intersight) (21.2.0)\n",
      "Requirement already satisfied: python-dateutil in /usr/local/lib/python3.9/site-packages (from intersight) (2.8.1)\n",
      "Requirement already satisfied: pycryptodome>=3.9.0 in /usr/local/lib/python3.9/site-packages (from intersight) (3.10.1)\n",
      "Requirement already satisfied: six>=1.5 in /usr/local/lib/python3.9/site-packages (from python-dateutil->intersight) (1.15.0)\n",
      "\u001b[33mWARNING: You are using pip version 21.0.1; however, version 22.0.4 is available.\n",
      "You should consider upgrading via the '/usr/local/opt/python@3.9/bin/python3.9 -m pip install --upgrade pip' command.\u001b[0m\n",
      "Note: you may need to restart the kernel to use updated packages.\n"
     ]
    }
   ],
   "source": [
    "pip install intersight"
   ]
  },
  {
   "cell_type": "markdown",
   "metadata": {},
   "source": [
    "\n",
    "> Be sure to uninstall any conflicting versions of the SDK if you have previous installs.  You can check installed versions with pip list."
   ]
  },
  {
   "cell_type": "code",
   "execution_count": 2,
   "metadata": {},
   "outputs": [
    {
     "name": "stdout",
     "output_type": "stream",
     "text": [
      "intersight          1.0.9.5808\n",
      "\u001b[33mWARNING: You are using pip version 21.0.1; however, version 22.0.4 is available.\n",
      "You should consider upgrading via the '/usr/local/opt/python@3.9/bin/python3.9 -m pip install --upgrade pip' command.\u001b[0m\n",
      "Note: you may need to restart the kernel to use updated packages.\n"
     ]
    }
   ],
   "source": [
    "pip list | grep -i intersight"
   ]
  },
  {
   "cell_type": "markdown",
   "metadata": {},
   "source": [
    "> If you see Intersight-OpenAPI installed, you can run `pip unistall Intersight-OpenAPI`"
   ]
  },
  {
   "cell_type": "markdown",
   "metadata": {},
   "source": [
    "## Using the Intersight Python SDK\n",
    "\n",
    "To use the SDK, you must import required modules.  You can view help once you've imported any required modules.\n"
   ]
  },
  {
   "cell_type": "code",
   "execution_count": 3,
   "metadata": {},
   "outputs": [
    {
     "name": "stdout",
     "output_type": "stream",
     "text": [
      "Help on package intersight:\n",
      "\n",
      "NAME\n",
      "    intersight - Cisco Intersight\n",
      "\n",
      "DESCRIPTION\n",
      "    Cisco Intersight is a management platform delivered as a service with embedded analytics for your Cisco and 3rd party IT infrastructure. This platform offers an intelligent level of management that enables IT organizations to analyze, simplify, and automate their environments in more advanced ways than the prior generations of tools. Cisco Intersight provides an integrated and intuitive management experience for resources in the traditional data center as well as at the edge. With flexible deployment options to address complex security needs, getting started with Intersight is quick and easy. Cisco Intersight has deep integration with Cisco UCS and HyperFlex systems allowing for remote deployment, configuration, and ongoing maintenance. The model-based deployment works for a single system in a remote location or hundreds of systems in a data center and enables rapid, standardized configuration and deployment. It also streamlines maintaining those systems whether you are working with small or very large configurations. The Intersight OpenAPI document defines the complete set of properties that are returned in the HTTP response. From that perspective, a client can expect that no additional properties are returned, unless these properties are explicitly defined in the OpenAPI document. However, when a client uses an older version of the Intersight OpenAPI document, the server may send additional properties because the software is more recent than the client. In that case, the client may receive properties that it does not know about. Some generated SDKs perform a strict validation of the HTTP response body against the OpenAPI document.  # noqa: E501\n",
      "    \n",
      "    The version of the OpenAPI document: 1.0.9-5808\n",
      "    Contact: intersight@cisco.com\n",
      "    Generated by: https://openapi-generator.tech\n",
      "\n",
      "PACKAGE CONTENTS\n",
      "    api (package)\n",
      "    api_client\n",
      "    apis (package)\n",
      "    configuration\n",
      "    exceptions\n",
      "    model (package)\n",
      "    model_utils\n",
      "    models (package)\n",
      "    rest\n",
      "    signing\n",
      "\n",
      "VERSION\n",
      "    1.0.9.5808\n",
      "\n",
      "FILE\n",
      "    /usr/local/lib/python3.9/site-packages/intersight/__init__.py\n",
      "\n",
      "\n"
     ]
    }
   ],
   "source": [
    "import intersight\n",
    "\n",
    "# View the help\n",
    "help(intersight)\n"
   ]
  },
  {
   "cell_type": "markdown",
   "metadata": {},
   "source": [
    "### API Keys and User Authentication\n",
    "\n",
    "Now let's use the Intersight Python SDK to connect to our Intersight environment.  First, you'll need an Intersight API Key ID and secret (private) key from your Intersight account.  From the Settings menu in Intersight, Select API Keys and Generate API Key.\n",
    "\n",
    "![Generate API Key](images/generate_api_key.png)\n",
    "\n",
    "A version 3 key can be used with the SDK and is recommended for long term compatibility with Intersight's API.\n",
    "\n",
    "![Version 3 key](images/version_3_key.png)\n",
    "\n",
    "The Generated API Key ID can be copied to the clipboard and used in API authentication below.  Also be sure to save the Secret (private) Key to a local file that only you have access to (a download option is provided by Intersight).\n",
    "\n",
    "![Download Secret Key](images/secret_key_download.png)"
   ]
  },
  {
   "cell_type": "markdown",
   "metadata": {},
   "source": [
    "### Intersight API Configuration\n",
    "\n",
    "We'll create an API client and use it to connect with Intersight.\n",
    "\n",
    "> Note that in DevNet labs the values below can be used as is.  For other environments, be sure to enter the values for your account in the `key_id` variable below as well as the `private_key_path`.  Also be sure that you are using v3 API keys from your Intersight account.  "
   ]
  },
  {
   "cell_type": "code",
   "execution_count": 4,
   "metadata": {
    "dotnet_interactive": {
     "language": "pwsh"
    }
   },
   "outputs": [],
   "source": [
    "import intersight\n",
    "\n",
    "configuration = intersight.Configuration(\n",
    "    signing_info=intersight.HttpSigningConfiguration(\n",
    "        key_id='596cc79e5d91b400010d15ad/60ede8d07564612d3335edac/623354c07564612d33d9068d',\n",
    "        private_key_path='./SecretKey.txt',\n",
    "        signing_scheme=intersight.signing.SCHEME_HS2019,\n",
    "        signed_headers=[intersight.signing.HEADER_HOST,\n",
    "                        intersight.signing.HEADER_DATE,\n",
    "                        intersight.signing.HEADER_DIGEST,\n",
    "                        intersight.signing.HEADER_REQUEST_TARGET\n",
    "                        ]\n",
    "    )\n",
    ")\n",
    "api_client = intersight.ApiClient(configuration)\n"
   ]
  },
  {
   "cell_type": "markdown",
   "metadata": {},
   "source": [
    "### Intersight Python SDK Query Examples\n",
    "\n",
    "Now that you are authenticated, let's use the SDK to query server and related resources in Intersight.  You can read more on [Intersight's API query language](https://www.intersight.com/apidocs/introduction/query/), and to get an idea of the resources used by the API you can look at the URIs your browser uses (compute/physical-summaries below).\n",
    "\n",
    "![Browser Compute Summary](images/browser_compute_phys_summary.png)\n",
    "\n",
    "The Python example below sets up a query filter to get a count of servers and then uses the returned count to page through all servers in the account.  When getting server summaries, the select query parameter is used to only return certain server attributes."
   ]
  },
  {
   "cell_type": "code",
   "execution_count": 5,
   "metadata": {},
   "outputs": [
    {
     "name": "stdout",
     "output_type": "stream",
     "text": [
      "{'count': 10, 'object_type': 'mo.DocumentCount'}\n",
      "{'object_type': 'compute.PhysicalSummary.List',\n",
      " 'results': [{'class_id': 'compute.PhysicalSummary',\n",
      "              'model': 'HXAF220C-M5SX',\n",
      "              'moid': '5dee9c8e6176752d332e94c8',\n",
      "              'name': 'C220-WZP2204097Z',\n",
      "              'object_type': 'compute.PhysicalSummary',\n",
      "              'serial': 'WZP2204097Z'},\n",
      "             {'class_id': 'compute.PhysicalSummary',\n",
      "              'model': 'HXAF220C-M5SX',\n",
      "              'moid': '5dee9c8f6176752d332e94fa',\n",
      "              'name': 'C220-WZP2204093R',\n",
      "              'object_type': 'compute.PhysicalSummary',\n",
      "              'serial': 'WZP2204093R'},\n",
      "             {'class_id': 'compute.PhysicalSummary',\n",
      "              'model': 'HXAF220C-M5SX',\n",
      "              'moid': '5dee9c916176752d332e9583',\n",
      "              'name': 'C220-WZP220400B3',\n",
      "              'object_type': 'compute.PhysicalSummary',\n",
      "              'serial': 'WZP220400B3'},\n",
      "             {'class_id': 'compute.PhysicalSummary',\n",
      "              'model': 'HXAF220C-M5SX',\n",
      "              'moid': '5dee9c936176752d332e95ea',\n",
      "              'name': 'C220-WZP22040995',\n",
      "              'object_type': 'compute.PhysicalSummary',\n",
      "              'serial': 'WZP22040995'},\n",
      "             {'class_id': 'compute.PhysicalSummary',\n",
      "              'model': 'HXAF220C-M5SX',\n",
      "              'moid': '5dee9c936176752d332e95ff',\n",
      "              'name': 'C220-WZP2204090C',\n",
      "              'object_type': 'compute.PhysicalSummary',\n",
      "              'serial': 'WZP2204090C'},\n",
      "             {'class_id': 'compute.PhysicalSummary',\n",
      "              'model': 'HXAF220C-M5SX',\n",
      "              'moid': '5dee9c986176752d332e980a',\n",
      "              'name': ' C220-WZP220315W0',\n",
      "              'object_type': 'compute.PhysicalSummary',\n",
      "              'serial': 'WZP220315W0'},\n",
      "             {'class_id': 'compute.PhysicalSummary',\n",
      "              'model': 'UCSB-B200-M5',\n",
      "              'moid': '5f355fd06176752d3761fb64',\n",
      "              'name': 'IMM-6454-D23-1-2',\n",
      "              'object_type': 'compute.PhysicalSummary',\n",
      "              'serial': 'FCH2141JB8E'},\n",
      "             {'class_id': 'compute.PhysicalSummary',\n",
      "              'model': 'UCSB-B200-M5',\n",
      "              'moid': '5f3560076176752d37620d29',\n",
      "              'name': 'IMM-6454-D23-1-1',\n",
      "              'object_type': 'compute.PhysicalSummary',\n",
      "              'serial': 'FCH2141JB6R'},\n",
      "             {'class_id': 'compute.PhysicalSummary',\n",
      "              'model': 'UCSC-C220-M5SX',\n",
      "              'moid': '61a8e58d76752d323651ed84',\n",
      "              'name': 'C220M5-WZP23230LJ6',\n",
      "              'object_type': 'compute.PhysicalSummary',\n",
      "              'serial': 'WZP23230LJ6'},\n",
      "             {'class_id': 'compute.PhysicalSummary',\n",
      "              'model': 'UCSC-C220-M5SX',\n",
      "              'moid': '601446f46176752d370db393',\n",
      "              'name': 'C220M5-WZP23230LJ6',\n",
      "              'object_type': 'compute.PhysicalSummary',\n",
      "              'serial': 'WZP23230LJ6'}]}\n"
     ]
    }
   ],
   "source": [
    "import intersight.api.compute_api\n",
    "\n",
    "# Create physical summary (server) class instance\n",
    "api_instance = intersight.api.compute_api.ComputeApi(api_client)\n",
    "\n",
    "# Find the count of servers in the account\n",
    "server_query = api_instance.get_compute_physical_summary_list(count=True)\n",
    "print(server_query)\n",
    "\n",
    "# Intersight limits the number of items returned.  Page through returned results and select Name, Model, Serial\n",
    "per_page = 50\n",
    "query_select = \"Name,Model,Serial\"\n",
    "for i in range(0, server_query.count, per_page):\n",
    "    page_query = api_instance.get_compute_physical_summary_list(top=per_page, skip=i, select=query_select)\n",
    "    print(page_query)\n"
   ]
  },
  {
   "cell_type": "markdown",
   "metadata": {},
   "source": [
    "### Detailed Inventory\n",
    "\n",
    "Building on the server inventory example above, we'll now look at Intersight's resource model to get information on server components like physical disks.  We can search in the API for specific disk Model numbers or search for Models that contain a certian substring.  Below we will search for physical disks Model numbers that contain a certain substring. "
   ]
  },
  {
   "cell_type": "code",
   "execution_count": 6,
   "metadata": {},
   "outputs": [
    {
     "name": "stdout",
     "output_type": "stream",
     "text": [
      "{'object_type': 'storage.PhysicalDisk.List',\n",
      " 'results': [{'class_id': 'storage.PhysicalDisk',\n",
      "              'dn': '/redfish/v1/Systems/FCH2141JB8E/Storage/FMEZZ1-SAS/Drives/1',\n",
      "              'model': 'UCS-HD300G10K12G',\n",
      "              'moid': '5f35604f6176752d376223bf',\n",
      "              'object_type': 'storage.PhysicalDisk',\n",
      "              'registered_device': {'class_id': 'asset.DeviceRegistration',\n",
      "                                    'device_hostname': ['C1-B2-UCSB-B200-M5'],\n",
      "                                    'moid': '5f355faa6f72612d31b261c1',\n",
      "                                    'object_type': 'asset.DeviceRegistration'},\n",
      "              'running_firmware': [{'class_id': 'firmware.RunningFirmware',\n",
      "                                    'moid': '5f35604f6176752d376223c5',\n",
      "                                    'object_type': 'firmware.RunningFirmware',\n",
      "                                    'version': '5705'}]},\n",
      "             {'class_id': 'storage.PhysicalDisk',\n",
      "              'dn': '/redfish/v1/Systems/FCH2141JB6R/Storage/FMEZZ1-SAS/Drives/1',\n",
      "              'model': 'UCS-HD300G10K12G',\n",
      "              'moid': '5f35608e6176752d37623d5d',\n",
      "              'object_type': 'storage.PhysicalDisk',\n",
      "              'registered_device': {'class_id': 'asset.DeviceRegistration',\n",
      "                                    'device_hostname': ['C1-B1-UCSB-B200-M5'],\n",
      "                                    'moid': '5f355fe16f72612d31b265b4',\n",
      "                                    'object_type': 'asset.DeviceRegistration'},\n",
      "              'running_firmware': [{'class_id': 'firmware.RunningFirmware',\n",
      "                                    'moid': '5f35608e6176752d37623d63',\n",
      "                                    'object_type': 'firmware.RunningFirmware',\n",
      "                                    'version': '5705'}]}]}\n"
     ]
    }
   ],
   "source": [
    "import intersight.api.storage_api\n",
    "\n",
    "# Create storage class instance\n",
    "api_instance = intersight.api.storage_api.StorageApi(api_client)\n",
    "\n",
    "# Setup query options\n",
    "query_filter = \"contains(Model,'UCS')\"\n",
    "query_select = \"Dn,Model,RegisteredDevice,RunningFirmware\"\n",
    "query_expand = \"RegisteredDevice($select=DeviceHostname),RunningFirmware($select=Version)\"\n",
    "\n",
    "# Get physcial disks that contain the Model substring defined above\n",
    "storage_query = api_instance.get_storage_physical_disk_list(filter=query_filter, select=query_select, expand=query_expand)\n",
    "print(storage_query)\n"
   ]
  },
  {
   "cell_type": "markdown",
   "metadata": {},
   "source": [
    "## Configure Resources\n",
    "\n",
    "### Create a new BIOS Policy"
   ]
  },
  {
   "cell_type": "code",
   "execution_count": 7,
   "metadata": {},
   "outputs": [
    {
     "ename": "ApiException",
     "evalue": "(400)\nReason: Bad Request\nHTTP response headers: HTTPHeaderDict({'Content-Type': 'application/json; charset=utf-8', 'Content-Length': '289', 'Connection': 'keep-alive', 'Date': 'Thu, 07 Apr 2022 21:53:59 GMT', 'Set-Cookie': 'AWSALB=dePmLaeakyGnK68pKivYh7E4oeLYrX1Y2hktKAlnFRnbqzjFvvMJShLLFRd6E+yVHeZikRicjau/kJuHbfnbOICBrxwoh9BPWsJjgWUsQJDCfCVE3X0FH0CtBvE9; Expires=Thu, 14 Apr 2022 21:53:59 GMT; Path=/, AWSALBCORS=dePmLaeakyGnK68pKivYh7E4oeLYrX1Y2hktKAlnFRnbqzjFvvMJShLLFRd6E+yVHeZikRicjau/kJuHbfnbOICBrxwoh9BPWsJjgWUsQJDCfCVE3X0FH0CtBvE9; Expires=Thu, 14 Apr 2022 21:53:59 GMT; Path=/; SameSite=None; Secure', 'Server': 'nginx', 'X-Starship-TraceId': 'NB9335333b64a085ac15cd5cabc08135fe', 'Pragma': 'no-cache', 'Cache-Control': 'no-cache, no-store, must-revalidate', 'Content-Security-Policy': \"base-uri 'self' https://cdn.intersight.com/; child-src 'self' https://www.intersight.com/ https://cdn.intersight.com/  https://cloudsso.cisco.com https://www.cisco.com/ https://id.cisco.com; default-src 'self' https://cdn.intersight.com/; font-src 'self' data: https://cdn.intersight.com/; frame-ancestors 'self'; img-src 'self' data: https://cdn.intersight.com/; style-src 'self' 'unsafe-inline' https://cdn.intersight.com/; object-src 'none'; form-action 'self' https://www.intersight.com/ https://cloudsso.cisco.com https://www.cisco.com/ https://id.cisco.com; script-src 'self' https://cdn.intersight.com/; sandbox allow-modals allow-scripts allow-same-origin allow-popups allow-forms allow-downloads; connect-src 'self' https://cdn.intersight.com/ https://status.intersight.com https://download.intersight.com/ wss://socket.intersight.com wss://intersight.com; frame-src 'self' blob: https://www.intersight.com/ https://cdn.intersight.com/  https://cloudsso.cisco.com https://www.cisco.com/ https://id.cisco.com;\", 'X-XSS-Protection': '1; mode=block;', 'Strict-Transport-Security': 'max-age=63072000; includeSubDomains', 'X-Content-Type-Options': 'nosniff', 'X-Frame-Options': 'SAMEORIGIN', 'X-Cache': 'Error from cloudfront', 'Via': '1.1 bcfc48468e56745d286bd76f9d9ce606.cloudfront.net (CloudFront)', 'X-Amz-Cf-Pop': 'DFW50-C1', 'X-Amz-Cf-Id': '9_VkaW-utW6fX9htGUXPEQkcRgohI0jrwlMsJcKcrxN-TzD2jpsjQg=='})\nHTTP response body: {\"code\":\"InvalidRequest\",\"message\":\"Cannot set the property 'policy.AbstractPolicy.Name'. The property cannot be empty.\",\"messageId\":\"barcelona_request_cannot_access_property_required\",\"messageParams\":{\"1\":\"policy.AbstractPolicy\",\"2\":\"Name\"},\"traceId\":\"NB9335333b64a085ac15cd5cabc08135fe\"}\n",
     "output_type": "error",
     "traceback": [
      "\u001b[0;31m---------------------------------------------------------------------------\u001b[0m",
      "\u001b[0;31mApiException\u001b[0m                              Traceback (most recent call last)",
      "\u001b[0;32m/var/folders/nk/1w6v7d453b75v0v5pfrg8yb40000gn/T/ipykernel_81570/1973704018.py\u001b[0m in \u001b[0;36m<module>\u001b[0;34m\u001b[0m\n\u001b[1;32m     16\u001b[0m \u001b[0;31m# Create a bios.Policy resource\u001b[0m\u001b[0;34m\u001b[0m\u001b[0;34m\u001b[0m\u001b[0;34m\u001b[0m\u001b[0m\n\u001b[1;32m     17\u001b[0m \u001b[0mbios_policy_instance\u001b[0m \u001b[0;34m=\u001b[0m \u001b[0mbios_api\u001b[0m\u001b[0;34m.\u001b[0m\u001b[0mBiosApi\u001b[0m\u001b[0;34m(\u001b[0m\u001b[0mapi_client\u001b[0m\u001b[0;34m)\u001b[0m\u001b[0;34m\u001b[0m\u001b[0;34m\u001b[0m\u001b[0m\n\u001b[0;32m---> 18\u001b[0;31m \u001b[0mapi_response\u001b[0m \u001b[0;34m=\u001b[0m \u001b[0mbios_policy_instance\u001b[0m\u001b[0;34m.\u001b[0m\u001b[0mcreate_bios_policy\u001b[0m\u001b[0;34m(\u001b[0m\u001b[0mbios_policy\u001b[0m\u001b[0;34m)\u001b[0m\u001b[0;34m\u001b[0m\u001b[0;34m\u001b[0m\u001b[0m\n\u001b[0m",
      "\u001b[0;32m/usr/local/lib/python3.9/site-packages/intersight/api_client.py\u001b[0m in \u001b[0;36m__call__\u001b[0;34m(self, *args, **kwargs)\u001b[0m\n\u001b[1;32m    777\u001b[0m \u001b[0;34m\u001b[0m\u001b[0m\n\u001b[1;32m    778\u001b[0m         \"\"\"\n\u001b[0;32m--> 779\u001b[0;31m         \u001b[0;32mreturn\u001b[0m \u001b[0mself\u001b[0m\u001b[0;34m.\u001b[0m\u001b[0mcallable\u001b[0m\u001b[0;34m(\u001b[0m\u001b[0mself\u001b[0m\u001b[0;34m,\u001b[0m \u001b[0;34m*\u001b[0m\u001b[0margs\u001b[0m\u001b[0;34m,\u001b[0m \u001b[0;34m**\u001b[0m\u001b[0mkwargs\u001b[0m\u001b[0;34m)\u001b[0m\u001b[0;34m\u001b[0m\u001b[0;34m\u001b[0m\u001b[0m\n\u001b[0m\u001b[1;32m    780\u001b[0m \u001b[0;34m\u001b[0m\u001b[0m\n\u001b[1;32m    781\u001b[0m     \u001b[0;32mdef\u001b[0m \u001b[0mcall_with_http_info\u001b[0m\u001b[0;34m(\u001b[0m\u001b[0mself\u001b[0m\u001b[0;34m,\u001b[0m \u001b[0;34m**\u001b[0m\u001b[0mkwargs\u001b[0m\u001b[0;34m)\u001b[0m\u001b[0;34m:\u001b[0m\u001b[0;34m\u001b[0m\u001b[0;34m\u001b[0m\u001b[0m\n",
      "\u001b[0;32m/usr/local/lib/python3.9/site-packages/intersight/api/bios_api.py\u001b[0m in \u001b[0;36m__create_bios_policy\u001b[0;34m(self, bios_policy, **kwargs)\u001b[0m\n\u001b[1;32m    117\u001b[0m             \u001b[0mkwargs\u001b[0m\u001b[0;34m[\u001b[0m\u001b[0;34m'bios_policy'\u001b[0m\u001b[0;34m]\u001b[0m \u001b[0;34m=\u001b[0m\u001b[0;31m \u001b[0m\u001b[0;31m\\\u001b[0m\u001b[0;34m\u001b[0m\u001b[0;34m\u001b[0m\u001b[0m\n\u001b[1;32m    118\u001b[0m                 \u001b[0mbios_policy\u001b[0m\u001b[0;34m\u001b[0m\u001b[0;34m\u001b[0m\u001b[0m\n\u001b[0;32m--> 119\u001b[0;31m             \u001b[0;32mreturn\u001b[0m \u001b[0mself\u001b[0m\u001b[0;34m.\u001b[0m\u001b[0mcall_with_http_info\u001b[0m\u001b[0;34m(\u001b[0m\u001b[0;34m**\u001b[0m\u001b[0mkwargs\u001b[0m\u001b[0;34m)\u001b[0m\u001b[0;34m\u001b[0m\u001b[0;34m\u001b[0m\u001b[0m\n\u001b[0m\u001b[1;32m    120\u001b[0m \u001b[0;34m\u001b[0m\u001b[0m\n\u001b[1;32m    121\u001b[0m         self.create_bios_policy = _Endpoint(\n",
      "\u001b[0;32m/usr/local/lib/python3.9/site-packages/intersight/api_client.py\u001b[0m in \u001b[0;36mcall_with_http_info\u001b[0;34m(self, **kwargs)\u001b[0m\n\u001b[1;32m    839\u001b[0m             \u001b[0mparams\u001b[0m\u001b[0;34m[\u001b[0m\u001b[0;34m'header'\u001b[0m\u001b[0;34m]\u001b[0m\u001b[0;34m[\u001b[0m\u001b[0;34m'Content-Type'\u001b[0m\u001b[0;34m]\u001b[0m \u001b[0;34m=\u001b[0m \u001b[0mheader_list\u001b[0m\u001b[0;34m\u001b[0m\u001b[0;34m\u001b[0m\u001b[0m\n\u001b[1;32m    840\u001b[0m \u001b[0;34m\u001b[0m\u001b[0m\n\u001b[0;32m--> 841\u001b[0;31m         return self.api_client.call_api(\n\u001b[0m\u001b[1;32m    842\u001b[0m             \u001b[0mself\u001b[0m\u001b[0;34m.\u001b[0m\u001b[0msettings\u001b[0m\u001b[0;34m[\u001b[0m\u001b[0;34m'endpoint_path'\u001b[0m\u001b[0;34m]\u001b[0m\u001b[0;34m,\u001b[0m \u001b[0mself\u001b[0m\u001b[0;34m.\u001b[0m\u001b[0msettings\u001b[0m\u001b[0;34m[\u001b[0m\u001b[0;34m'http_method'\u001b[0m\u001b[0;34m]\u001b[0m\u001b[0;34m,\u001b[0m\u001b[0;34m\u001b[0m\u001b[0;34m\u001b[0m\u001b[0m\n\u001b[1;32m    843\u001b[0m             \u001b[0mparams\u001b[0m\u001b[0;34m[\u001b[0m\u001b[0;34m'path'\u001b[0m\u001b[0;34m]\u001b[0m\u001b[0;34m,\u001b[0m\u001b[0;34m\u001b[0m\u001b[0;34m\u001b[0m\u001b[0m\n",
      "\u001b[0;32m/usr/local/lib/python3.9/site-packages/intersight/api_client.py\u001b[0m in \u001b[0;36mcall_api\u001b[0;34m(self, resource_path, method, path_params, query_params, header_params, body, post_params, files, response_type, auth_settings, async_req, _return_http_data_only, collection_formats, _preload_content, _request_timeout, _host, _check_type)\u001b[0m\n\u001b[1;32m    407\u001b[0m         \"\"\"\n\u001b[1;32m    408\u001b[0m         \u001b[0;32mif\u001b[0m \u001b[0;32mnot\u001b[0m \u001b[0masync_req\u001b[0m\u001b[0;34m:\u001b[0m\u001b[0;34m\u001b[0m\u001b[0;34m\u001b[0m\u001b[0m\n\u001b[0;32m--> 409\u001b[0;31m             return self.__call_api(resource_path, method,\n\u001b[0m\u001b[1;32m    410\u001b[0m                                    \u001b[0mpath_params\u001b[0m\u001b[0;34m,\u001b[0m \u001b[0mquery_params\u001b[0m\u001b[0;34m,\u001b[0m \u001b[0mheader_params\u001b[0m\u001b[0;34m,\u001b[0m\u001b[0;34m\u001b[0m\u001b[0;34m\u001b[0m\u001b[0m\n\u001b[1;32m    411\u001b[0m                                    \u001b[0mbody\u001b[0m\u001b[0;34m,\u001b[0m \u001b[0mpost_params\u001b[0m\u001b[0;34m,\u001b[0m \u001b[0mfiles\u001b[0m\u001b[0;34m,\u001b[0m\u001b[0;34m\u001b[0m\u001b[0;34m\u001b[0m\u001b[0m\n",
      "\u001b[0;32m/usr/local/lib/python3.9/site-packages/intersight/api_client.py\u001b[0m in \u001b[0;36m__call_api\u001b[0;34m(self, resource_path, method, path_params, query_params, header_params, body, post_params, files, response_type, auth_settings, _return_http_data_only, collection_formats, _preload_content, _request_timeout, _host, _check_type)\u001b[0m\n\u001b[1;32m    201\u001b[0m         \u001b[0;32mexcept\u001b[0m \u001b[0mApiException\u001b[0m \u001b[0;32mas\u001b[0m \u001b[0me\u001b[0m\u001b[0;34m:\u001b[0m\u001b[0;34m\u001b[0m\u001b[0;34m\u001b[0m\u001b[0m\n\u001b[1;32m    202\u001b[0m             \u001b[0me\u001b[0m\u001b[0;34m.\u001b[0m\u001b[0mbody\u001b[0m \u001b[0;34m=\u001b[0m \u001b[0me\u001b[0m\u001b[0;34m.\u001b[0m\u001b[0mbody\u001b[0m\u001b[0;34m.\u001b[0m\u001b[0mdecode\u001b[0m\u001b[0;34m(\u001b[0m\u001b[0;34m'utf-8'\u001b[0m\u001b[0;34m)\u001b[0m\u001b[0;34m\u001b[0m\u001b[0;34m\u001b[0m\u001b[0m\n\u001b[0;32m--> 203\u001b[0;31m             \u001b[0;32mraise\u001b[0m \u001b[0me\u001b[0m\u001b[0;34m\u001b[0m\u001b[0;34m\u001b[0m\u001b[0m\n\u001b[0m\u001b[1;32m    204\u001b[0m \u001b[0;34m\u001b[0m\u001b[0m\n\u001b[1;32m    205\u001b[0m         \u001b[0mself\u001b[0m\u001b[0;34m.\u001b[0m\u001b[0mlast_response\u001b[0m \u001b[0;34m=\u001b[0m \u001b[0mresponse_data\u001b[0m\u001b[0;34m\u001b[0m\u001b[0;34m\u001b[0m\u001b[0m\n",
      "\u001b[0;32m/usr/local/lib/python3.9/site-packages/intersight/api_client.py\u001b[0m in \u001b[0;36m__call_api\u001b[0;34m(self, resource_path, method, path_params, query_params, header_params, body, post_params, files, response_type, auth_settings, _return_http_data_only, collection_formats, _preload_content, _request_timeout, _host, _check_type)\u001b[0m\n\u001b[1;32m    194\u001b[0m         \u001b[0;32mtry\u001b[0m\u001b[0;34m:\u001b[0m\u001b[0;34m\u001b[0m\u001b[0;34m\u001b[0m\u001b[0m\n\u001b[1;32m    195\u001b[0m             \u001b[0;31m# perform request and return response\u001b[0m\u001b[0;34m\u001b[0m\u001b[0;34m\u001b[0m\u001b[0;34m\u001b[0m\u001b[0m\n\u001b[0;32m--> 196\u001b[0;31m             response_data = self.request(\n\u001b[0m\u001b[1;32m    197\u001b[0m                 \u001b[0mmethod\u001b[0m\u001b[0;34m,\u001b[0m \u001b[0murl\u001b[0m\u001b[0;34m,\u001b[0m \u001b[0mquery_params\u001b[0m\u001b[0;34m=\u001b[0m\u001b[0mquery_params\u001b[0m\u001b[0;34m,\u001b[0m \u001b[0mheaders\u001b[0m\u001b[0;34m=\u001b[0m\u001b[0mheader_params\u001b[0m\u001b[0;34m,\u001b[0m\u001b[0;34m\u001b[0m\u001b[0;34m\u001b[0m\u001b[0m\n\u001b[1;32m    198\u001b[0m                 \u001b[0mpost_params\u001b[0m\u001b[0;34m=\u001b[0m\u001b[0mpost_params\u001b[0m\u001b[0;34m,\u001b[0m \u001b[0mbody\u001b[0m\u001b[0;34m=\u001b[0m\u001b[0mbody\u001b[0m\u001b[0;34m,\u001b[0m\u001b[0;34m\u001b[0m\u001b[0;34m\u001b[0m\u001b[0m\n",
      "\u001b[0;32m/usr/local/lib/python3.9/site-packages/intersight/api_client.py\u001b[0m in \u001b[0;36mrequest\u001b[0;34m(self, method, url, query_params, headers, post_params, body, _preload_content, _request_timeout)\u001b[0m\n\u001b[1;32m    453\u001b[0m                                             body=body)\n\u001b[1;32m    454\u001b[0m         \u001b[0;32melif\u001b[0m \u001b[0mmethod\u001b[0m \u001b[0;34m==\u001b[0m \u001b[0;34m\"POST\"\u001b[0m\u001b[0;34m:\u001b[0m\u001b[0;34m\u001b[0m\u001b[0;34m\u001b[0m\u001b[0m\n\u001b[0;32m--> 455\u001b[0;31m             return self.rest_client.POST(url,\n\u001b[0m\u001b[1;32m    456\u001b[0m                                          \u001b[0mquery_params\u001b[0m\u001b[0;34m=\u001b[0m\u001b[0mquery_params\u001b[0m\u001b[0;34m,\u001b[0m\u001b[0;34m\u001b[0m\u001b[0;34m\u001b[0m\u001b[0m\n\u001b[1;32m    457\u001b[0m                                          \u001b[0mheaders\u001b[0m\u001b[0;34m=\u001b[0m\u001b[0mheaders\u001b[0m\u001b[0;34m,\u001b[0m\u001b[0;34m\u001b[0m\u001b[0;34m\u001b[0m\u001b[0m\n",
      "\u001b[0;32m/usr/local/lib/python3.9/site-packages/intersight/rest.py\u001b[0m in \u001b[0;36mPOST\u001b[0;34m(self, url, headers, query_params, post_params, body, _preload_content, _request_timeout)\u001b[0m\n\u001b[1;32m    265\u001b[0m     def POST(self, url, headers=None, query_params=None, post_params=None,\n\u001b[1;32m    266\u001b[0m              body=None, _preload_content=True, _request_timeout=None):\n\u001b[0;32m--> 267\u001b[0;31m         return self.request(\"POST\", url,\n\u001b[0m\u001b[1;32m    268\u001b[0m                             \u001b[0mheaders\u001b[0m\u001b[0;34m=\u001b[0m\u001b[0mheaders\u001b[0m\u001b[0;34m,\u001b[0m\u001b[0;34m\u001b[0m\u001b[0;34m\u001b[0m\u001b[0m\n\u001b[1;32m    269\u001b[0m                             \u001b[0mquery_params\u001b[0m\u001b[0;34m=\u001b[0m\u001b[0mquery_params\u001b[0m\u001b[0;34m,\u001b[0m\u001b[0;34m\u001b[0m\u001b[0;34m\u001b[0m\u001b[0m\n",
      "\u001b[0;32m/usr/local/lib/python3.9/site-packages/intersight/rest.py\u001b[0m in \u001b[0;36mrequest\u001b[0;34m(self, method, url, query_params, headers, body, post_params, _preload_content, _request_timeout)\u001b[0m\n\u001b[1;32m    224\u001b[0m                 \u001b[0;32mraise\u001b[0m \u001b[0mServiceException\u001b[0m\u001b[0;34m(\u001b[0m\u001b[0mhttp_resp\u001b[0m\u001b[0;34m=\u001b[0m\u001b[0mr\u001b[0m\u001b[0;34m)\u001b[0m\u001b[0;34m\u001b[0m\u001b[0;34m\u001b[0m\u001b[0m\n\u001b[1;32m    225\u001b[0m \u001b[0;34m\u001b[0m\u001b[0m\n\u001b[0;32m--> 226\u001b[0;31m             \u001b[0;32mraise\u001b[0m \u001b[0mApiException\u001b[0m\u001b[0;34m(\u001b[0m\u001b[0mhttp_resp\u001b[0m\u001b[0;34m=\u001b[0m\u001b[0mr\u001b[0m\u001b[0;34m)\u001b[0m\u001b[0;34m\u001b[0m\u001b[0;34m\u001b[0m\u001b[0m\n\u001b[0m\u001b[1;32m    227\u001b[0m \u001b[0;34m\u001b[0m\u001b[0m\n\u001b[1;32m    228\u001b[0m         \u001b[0;32mreturn\u001b[0m \u001b[0mr\u001b[0m\u001b[0;34m\u001b[0m\u001b[0;34m\u001b[0m\u001b[0m\n",
      "\u001b[0;31mApiException\u001b[0m: (400)\nReason: Bad Request\nHTTP response headers: HTTPHeaderDict({'Content-Type': 'application/json; charset=utf-8', 'Content-Length': '289', 'Connection': 'keep-alive', 'Date': 'Thu, 07 Apr 2022 21:53:59 GMT', 'Set-Cookie': 'AWSALB=dePmLaeakyGnK68pKivYh7E4oeLYrX1Y2hktKAlnFRnbqzjFvvMJShLLFRd6E+yVHeZikRicjau/kJuHbfnbOICBrxwoh9BPWsJjgWUsQJDCfCVE3X0FH0CtBvE9; Expires=Thu, 14 Apr 2022 21:53:59 GMT; Path=/, AWSALBCORS=dePmLaeakyGnK68pKivYh7E4oeLYrX1Y2hktKAlnFRnbqzjFvvMJShLLFRd6E+yVHeZikRicjau/kJuHbfnbOICBrxwoh9BPWsJjgWUsQJDCfCVE3X0FH0CtBvE9; Expires=Thu, 14 Apr 2022 21:53:59 GMT; Path=/; SameSite=None; Secure', 'Server': 'nginx', 'X-Starship-TraceId': 'NB9335333b64a085ac15cd5cabc08135fe', 'Pragma': 'no-cache', 'Cache-Control': 'no-cache, no-store, must-revalidate', 'Content-Security-Policy': \"base-uri 'self' https://cdn.intersight.com/; child-src 'self' https://www.intersight.com/ https://cdn.intersight.com/  https://cloudsso.cisco.com https://www.cisco.com/ https://id.cisco.com; default-src 'self' https://cdn.intersight.com/; font-src 'self' data: https://cdn.intersight.com/; frame-ancestors 'self'; img-src 'self' data: https://cdn.intersight.com/; style-src 'self' 'unsafe-inline' https://cdn.intersight.com/; object-src 'none'; form-action 'self' https://www.intersight.com/ https://cloudsso.cisco.com https://www.cisco.com/ https://id.cisco.com; script-src 'self' https://cdn.intersight.com/; sandbox allow-modals allow-scripts allow-same-origin allow-popups allow-forms allow-downloads; connect-src 'self' https://cdn.intersight.com/ https://status.intersight.com https://download.intersight.com/ wss://socket.intersight.com wss://intersight.com; frame-src 'self' blob: https://www.intersight.com/ https://cdn.intersight.com/  https://cloudsso.cisco.com https://www.cisco.com/ https://id.cisco.com;\", 'X-XSS-Protection': '1; mode=block;', 'Strict-Transport-Security': 'max-age=63072000; includeSubDomains', 'X-Content-Type-Options': 'nosniff', 'X-Frame-Options': 'SAMEORIGIN', 'X-Cache': 'Error from cloudfront', 'Via': '1.1 bcfc48468e56745d286bd76f9d9ce606.cloudfront.net (CloudFront)', 'X-Amz-Cf-Pop': 'DFW50-C1', 'X-Amz-Cf-Id': '9_VkaW-utW6fX9htGUXPEQkcRgohI0jrwlMsJcKcrxN-TzD2jpsjQg=='})\nHTTP response body: {\"code\":\"InvalidRequest\",\"message\":\"Cannot set the property 'policy.AbstractPolicy.Name'. The property cannot be empty.\",\"messageId\":\"barcelona_request_cannot_access_property_required\",\"messageParams\":{\"1\":\"policy.AbstractPolicy\",\"2\":\"Name\"},\"traceId\":\"NB9335333b64a085ac15cd5cabc08135fe\"}\n"
     ]
    }
   ],
   "source": [
    "from intersight.api import bios_api\n",
    "from intersight.model.bios_policy import BiosPolicy\n",
    "from intersight.model.organization_organization_relationship import OrganizationOrganizationRelationship\n",
    "\n",
    "organization = OrganizationOrganizationRelationship(moid=\"5deea1d16972652d33ba886b\",\n",
    "                                                    object_type=\"organization.Organization\",\n",
    "                                                    class_id=\"mo.MoRef\",\n",
    "                                                    )\n",
    "\n",
    "\n",
    "bios_policy = BiosPolicy()\n",
    "bios_policy.name = \"CLive2022\"\n",
    "bios_policy.organization = organization\n",
    "bios_policy.cpu_energy_performance = \"performance\"\n",
    "bios_policy.cpu_performance = \"hpc\"\n",
    "\n",
    "# Create a bios.Policy resource\n",
    "bios_policy_instance = bios_api.BiosApi(api_client)\n",
    "api_response = bios_policy_instance.create_bios_policy(bios_policy)\n"
   ]
  },
  {
   "cell_type": "markdown",
   "metadata": {},
   "source": [
    "### Update a BIOS Policy"
   ]
  },
  {
   "cell_type": "markdown",
   "metadata": {},
   "source": [
    "### Delete a BIOS Policy"
   ]
  },
  {
   "cell_type": "markdown",
   "metadata": {},
   "source": [
    "## Additional Examples\n",
    "\n",
    "Several additional examples of using the SDK are on GitHub in the [Intersight Python Utilties repo](https://github.com/CiscoDevNet/intersight-python-utils).  The repo also contains a credentials.py module to simplify authentication across all of the example scripts."
   ]
  }
 ],
 "metadata": {
  "interpreter": {
   "hash": "aee8b7b246df8f9039afb4144a1f6fd8d2ca17a180786b69acc140d282b71a49"
  },
  "kernelspec": {
   "display_name": "Python 3.9.4 64-bit",
   "name": "python3"
  },
  "language_info": {
   "codemirror_mode": {
    "name": "ipython",
    "version": 3
   },
   "file_extension": ".py",
   "mimetype": "text/x-python",
   "name": "python",
   "nbconvert_exporter": "python",
   "pygments_lexer": "ipython3",
   "version": "3.9.4"
  }
 },
 "nbformat": 4,
 "nbformat_minor": 4
}
