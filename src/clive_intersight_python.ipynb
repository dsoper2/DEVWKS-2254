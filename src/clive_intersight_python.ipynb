{
 "cells": [
  {
   "cell_type": "markdown",
   "metadata": {},
   "source": [
    "# Intersight Python SDK\n",
    "\n",
    "If you are familiar Python, you can take advantage of the Intersight Python SDK available for install from the [Python Package Index](https://pypi.org/project/intersight/).\n",
    "\n",
    "![Python SDK for Cisco Intersight](images/python_sdk_pip.png)\n",
    "\n",
    "## Installation\n",
    "\n",
    "Notice the `pip install intersight` command. That's the command used to install the Python SDK in your environment.  Be sure you are using Python >= 3.7, earlier versions of Python are not supported."
   ]
  },
  {
   "cell_type": "code",
   "execution_count": null,
   "metadata": {},
   "outputs": [],
   "source": [
    "pip install intersight"
   ]
  },
  {
   "cell_type": "markdown",
   "metadata": {},
   "source": [
    "\n",
    "> Be sure to uninstall any conflicting versions of the SDK if you have previous installs.  You can check installed versions with pip list."
   ]
  },
  {
   "cell_type": "code",
   "execution_count": null,
   "metadata": {},
   "outputs": [],
   "source": [
    "pip list | grep -i intersight"
   ]
  },
  {
   "cell_type": "markdown",
   "metadata": {},
   "source": [
    "> If you see Intersight-OpenAPI installed, you can run `pip unistall Intersight-OpenAPI`"
   ]
  },
  {
   "cell_type": "markdown",
   "metadata": {},
   "source": [
    "## Using the Intersight Python SDK\n",
    "\n",
    "To use the SDK, you must import required modules.  You can view help once you've imported any required modules.\n"
   ]
  },
  {
   "cell_type": "code",
   "execution_count": null,
   "metadata": {},
   "outputs": [],
   "source": [
    "import intersight\n",
    "\n",
    "# View the help\n",
    "help(intersight)\n"
   ]
  },
  {
   "cell_type": "markdown",
   "metadata": {},
   "source": [
    "### API Keys and User Authentication\n",
    "\n",
    "Now let's use the Intersight Python SDK to connect to our Intersight environment.  First, you'll need an Intersight API Key ID and secret (private) key from your Intersight account.  From the Settings menu in Intersight, Select API Keys and Generate API Key.\n",
    "\n",
    "![Generate API Key](images/generate_api_key.png)\n",
    "\n",
    "A version 3 key can be used with the SDK and is recommended for long term compatibility with Intersight's API.\n",
    "\n",
    "![Version 3 key](images/version_3_key.png)\n",
    "\n",
    "The Generated API Key ID can be copied to the clipboard and used in API authentication or can be placed into a file.  The example below uses a file for lookup so the ApiKeyId is not hardcoded in this notebook.\n",
    "\n",
    "Be sure to save the Secret (private) Key to a local file that only you have access to (a download option is provided by Intersight).\n",
    "\n",
    "![Download Secret Key](images/secret_key_download.png)"
   ]
  },
  {
   "cell_type": "markdown",
   "metadata": {},
   "source": [
    "### Intersight API Configuration\n",
    "\n",
    "We'll create an API client and use it to connect with Intersight.\n",
    "\n",
    "> Note that in DevNet labs the values below can be used as is.  For other environments, be sure to enter the values for your account in the `key_id` variable below as well as the `private_key_path`.  Also be sure that you are using v3 API keys from your Intersight account.  "
   ]
  },
  {
   "cell_type": "code",
   "execution_count": null,
   "metadata": {
    "dotnet_interactive": {
     "language": "pwsh"
    }
   },
   "outputs": [],
   "source": [
    "import intersight\n",
    "\n",
    "with open('./ApiKeyIdFile', 'r') as file:\n",
    "    api_key_id = file.read().rstrip()\n",
    "\n",
    "configuration = intersight.Configuration(\n",
    "    signing_info=intersight.HttpSigningConfiguration(\n",
    "        # key_id='596cc79e5d91b400010d15ad/60ede8d07564612d3335edac/623354c07564612d33d9068d',\n",
    "        key_id=api_key_id,\n",
    "        private_key_path='./SecretKey.txt',\n",
    "        signing_scheme=intersight.signing.SCHEME_HS2019,\n",
    "        signed_headers=[intersight.signing.HEADER_HOST,\n",
    "                        intersight.signing.HEADER_DATE,\n",
    "                        intersight.signing.HEADER_DIGEST,\n",
    "                        intersight.signing.HEADER_REQUEST_TARGET\n",
    "                        ]\n",
    "    )\n",
    ")\n",
    "api_client = intersight.ApiClient(configuration)\n"
   ]
  },
  {
   "cell_type": "markdown",
   "metadata": {},
   "source": [
    "### Intersight Python SDK Query Examples\n",
    "\n",
    "Now that you are authenticated, let's use the SDK to query server and related resources in Intersight.  You can read more on [Intersight's API query language](https://www.intersight.com/apidocs/introduction/query/), and to get an idea of the resources used by the API you can look at the URIs your browser uses (compute/physical-summaries below).\n",
    "\n",
    "![Browser Compute Summary](images/browser_compute_phys_summary.png)\n",
    "\n",
    "The Python example below sets up a query filter to get a count of servers and then uses the returned count to page through all servers in the account.  When getting server summaries, the select query parameter is used to only return certain server attributes."
   ]
  },
  {
   "cell_type": "code",
   "execution_count": null,
   "metadata": {},
   "outputs": [],
   "source": [
    "import intersight.api.compute_api\n",
    "\n",
    "# Create physical summary (server) class instance\n",
    "api_instance = intersight.api.compute_api.ComputeApi(api_client)\n",
    "\n",
    "# Find the count of servers in the account\n",
    "server_query = api_instance.get_compute_physical_summary_list(count=True)\n",
    "print(server_query)\n",
    "\n",
    "# Intersight limits the number of items returned.  Page through returned results and select Name, Model, Serial\n",
    "per_page = 50\n",
    "query_select = \"Name,Model,Serial\"\n",
    "for i in range(0, server_query.count, per_page):\n",
    "    page_query = api_instance.get_compute_physical_summary_list(top=per_page, skip=i, select=query_select)\n",
    "    print(page_query)\n"
   ]
  },
  {
   "cell_type": "markdown",
   "metadata": {},
   "source": [
    "### Detailed Inventory\n",
    "\n",
    "Building on the server inventory example above, we'll now look at Intersight's resource model to get information on server components like physical disks.  We can search in the API for specific disk Model numbers or search for Models that contain a certian substring.  Below we will search for physical disks Model numbers that contain a certain substring. "
   ]
  },
  {
   "cell_type": "code",
   "execution_count": null,
   "metadata": {},
   "outputs": [],
   "source": [
    "import intersight.api.storage_api\n",
    "\n",
    "# Create storage class instance\n",
    "api_instance = intersight.api.storage_api.StorageApi(api_client)\n",
    "\n",
    "# Setup query options\n",
    "query_filter = \"contains(Model,'UCS')\"\n",
    "query_select = \"Dn,Model,RegisteredDevice,RunningFirmware\"\n",
    "query_expand = \"RegisteredDevice($select=DeviceHostname),RunningFirmware($select=Version)\"\n",
    "\n",
    "# Get physcial disks that contain the Model substring defined above\n",
    "storage_query = api_instance.get_storage_physical_disk_list(filter=query_filter, select=query_select, expand=query_expand)\n",
    "print(storage_query)\n"
   ]
  },
  {
   "cell_type": "markdown",
   "metadata": {},
   "source": [
    "## Configure Resources\n",
    "\n",
    "### Create a new BIOS Policy"
   ]
  },
  {
   "cell_type": "code",
   "execution_count": null,
   "metadata": {},
   "outputs": [],
   "source": [
    "from intersight.api import bios_api\n",
    "from intersight.model.bios_policy import BiosPolicy\n",
    "from intersight.api import organization_api\n",
    "from intersight.model.organization_organization_relationship import OrganizationOrganizationRelationship\n",
    "\n",
    "organization_instance = organization_api.OrganizationApi(api_client)\n",
    "api_response = organization_instance.get_organization_organization_list(filter=\"Name eq 'Demo-DevNet'\")\n",
    "organization = OrganizationOrganizationRelationship(moid=api_response.results[0].moid,\n",
    "                                                    object_type=\"organization.Organization\",\n",
    "                                                    class_id=\"mo.MoRef\",\n",
    "                                                    )\n",
    "print(organization)\n",
    "\n",
    "bios_policy = BiosPolicy()\n",
    "bios_policy.name = \"CLive2024\"\n",
    "bios_policy.organization = organization\n",
    "bios_policy.cpu_energy_performance = \"performance\"\n",
    "bios_policy.cpu_performance = \"hpc\"\n",
    "\n",
    "# Create a bios.Policy resource\n",
    "bios_policy_instance = bios_api.BiosApi(api_client)\n",
    "api_response = bios_policy_instance.create_bios_policy(bios_policy)\n",
    "print(\"Name: %s, CPU Energy %s, CPU Perf %s\" % (api_response.name, api_response.cpu_energy_performance, api_response.cpu_performance))\n"
   ]
  },
  {
   "cell_type": "markdown",
   "metadata": {},
   "source": [
    "### Update a BIOS Policy"
   ]
  },
  {
   "cell_type": "code",
   "execution_count": null,
   "metadata": {},
   "outputs": [],
   "source": [
    "bios_policy.cpu_performance = \"enterprise\"\n",
    "api_response = bios_policy_instance.update_bios_policy(moid=api_response.moid, bios_policy=bios_policy)\n",
    "print(\"Name: %s, CPU Energy %s, CPU Perf %s\" % (api_response.name, api_response.cpu_energy_performance, api_response.cpu_performance))"
   ]
  },
  {
   "cell_type": "markdown",
   "metadata": {},
   "source": [
    "### Delete a BIOS Policy"
   ]
  },
  {
   "cell_type": "code",
   "execution_count": null,
   "metadata": {},
   "outputs": [],
   "source": [
    "api_response = bios_policy_instance.delete_bios_policy(moid=api_response.moid)\n",
    "print(api_response)"
   ]
  },
  {
   "cell_type": "markdown",
   "metadata": {},
   "source": [
    "## Additional Examples\n",
    "\n",
    "Several additional examples of using the SDK are on GitHub in the [Intersight Python Utilties repo](https://github.com/CiscoDevNet/intersight-python-utils).  The repo also contains a credentials.py module to simplify authentication across all of the example scripts."
   ]
  }
 ],
 "metadata": {
  "interpreter": {
   "hash": "aee8b7b246df8f9039afb4144a1f6fd8d2ca17a180786b69acc140d282b71a49"
  },
  "kernelspec": {
   "display_name": "Python 3.9.4 64-bit",
   "name": "python3"
  },
  "language_info": {
   "codemirror_mode": {
    "name": "ipython",
    "version": 3
   },
   "file_extension": ".py",
   "mimetype": "text/x-python",
   "name": "python",
   "nbconvert_exporter": "python",
   "pygments_lexer": "ipython3",
   "version": "3.9.4"
  }
 },
 "nbformat": 4,
 "nbformat_minor": 4
}
