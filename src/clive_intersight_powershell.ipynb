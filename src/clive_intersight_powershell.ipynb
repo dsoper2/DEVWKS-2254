{
 "cells": [
  {
   "cell_type": "markdown",
   "metadata": {},
   "source": [
    "# Using PowerShell with Intersight\n",
    "\n",
    "If you are familiar or proficient with PowerShell or PowerShell Core, you can take advantage of the Intersight module available for download from the [PowerShell Gallery](https://www.powershellgallery.com/). Enter the word `Intersight` in `Search PowerShell packages:` and click the resulting link named `Intersight.PowerShell`.\n",
    "\n",
    "![Intersight module returned by search](images/powershell_search_result_intersight.png)\n",
    "\n",
    "Notice the `Install Module -Name Intersight.PowerShell` command. That's the command used to install the module in your PowerShell environment.\n",
    "\n",
    "> Be sure you are in PowerShell itself before attempting to install the `Intersight.PowerShell` module. In PowerShell Core, the command to start PowerShell is `pwsh`.  You can check the current version of PowerShell Core with the following:"
   ]
  },
  {
   "cell_type": "code",
   "execution_count": null,
   "metadata": {
    "vscode": {
     "languageId": "powershell"
    }
   },
   "outputs": [],
   "source": [
    "pwsh --version"
   ]
  },
  {
   "cell_type": "markdown",
   "metadata": {},
   "source": [
    "## Installation\n",
    "\n",
    "Now install the Intersight module.  -Force is used to accept all prompts including any related to Intersight being an untrusted publisher."
   ]
  },
  {
   "cell_type": "code",
   "execution_count": null,
   "metadata": {
    "vscode": {
     "languageId": "powershell"
    }
   },
   "outputs": [],
   "source": [
    "Install-Module -Name Intersight.PowerShell -Force"
   ]
  },
  {
   "cell_type": "markdown",
   "metadata": {},
   "source": [
    "## Connect/Query/Filter with the PowerShell Intersight Module\n",
    "\n",
    "Now that the Intersight PowerShell module is installed, let's use it to connect to our Intersight environment. But first, you'll need credentials, such as your private key, from your Intersight account.\n",
    "\n",
    "### API Keys and User Authentication\n",
    "\n",
    "To generate an Intersight API Key ID and secret (private) key from your Intersight account, login at https://intersight.com and go to the Settings menu then select API Keys and Generate API Key\n",
    "\n",
    "![Generate API Key](images/generate_api_key.png)\n",
    "\n",
    "A version 3 key can be used with the PowerShell and is recommended for long term compatibility with Intersight's API.\n",
    "\n",
    "![Version 3 key](images/version_3_key.png)\n",
    "\n",
    "The Generated API Key ID can be copied to the clipboard and used in API authentication or can be placed into a file and used with `Get-Content`.  The example below uses a file for lookup so the ApiKeyId is not hardcoded in this notebook.\n",
    "\n",
    "Be sure to save the Secret (private) Key to a local file that only you have access to (a download option is provided by Intersight).\n",
    "\n",
    "![Download Secret Key](images/secret_key_download.png)\n",
    "\n",
    "To use your API keys, edit the ApiKeyId and ApiKeyFilePath lines below with your API Key ID and SecretKey.txt file location.\n",
    "\n",
    "> Note that for Cisco Live workshops, the lines below are already correct for API keys configured on the workstations."
   ]
  },
  {
   "cell_type": "code",
   "execution_count": null,
   "metadata": {
    "vscode": {
     "languageId": "powershell"
    }
   },
   "outputs": [],
   "source": [
    "$onprem = @{\n",
    "    BasePath = \"https://intersight.com\"\n",
    "    # ApiKeyId = \"596cc79e5d91b400010d15ad/60ede8d07564612d3335edac/623354c07564612d33d9068d\"\n",
    "    ApiKeyId = Get-Content('./ApiKeyIdFile')\n",
    "    ApiKeyFilePath = Resolve-Path('./SecretKey.txt')\n",
    "    HttpSigningHeader =  @(\"(request-target)\", \"Host\", \"Date\", \"Digest\")\n",
    "}"
   ]
  },
  {
   "cell_type": "markdown",
   "metadata": {},
   "source": [
    "#### Set Intersight configuration\n",
    "\n",
    "Now set the Intersight configuration to use your API keys with `Set-IntersightConfiguration @onprem` where `@onprem` contains the hash set above.  Intersight's configuration will be used in subsequent API calls."
   ]
  },
  {
   "cell_type": "code",
   "execution_count": null,
   "metadata": {
    "vscode": {
     "languageId": "powershell"
    }
   },
   "outputs": [],
   "source": [
    "Set-IntersightConfiguration @onprem"
   ]
  },
  {
   "cell_type": "markdown",
   "metadata": {},
   "source": [
    "### See available commands\n",
    "\n",
    "Now that you have API authentication configured, you can explore the list of available commands with `Get-Command -Module Intersight.Powershell`. There are many commands and to see what each one does along with any dependencies, visit [CiscoDevNet/intersight-powershell in the docs directory](https://github.com/CiscoDevNet/intersight-powershell/tree/master/docs) on GitHub.  Below we will select compute related commands that we'll use later in this notebook."
   ]
  },
  {
   "cell_type": "code",
   "execution_count": null,
   "metadata": {
    "vscode": {
     "languageId": "powershell"
    }
   },
   "outputs": [],
   "source": [
    "Get-Command -Module Intersight.Powershell | Select-String compute"
   ]
  },
  {
   "cell_type": "markdown",
   "metadata": {},
   "source": [
    "### Get-Help with cmdlets to list the physical compute inventory\n",
    "\n",
    "The command `Get-IntersightComputePhysicalSummary` returns all the physical compute devices claimed in Intersight along with details about each one.  Before running the cmdlet, you can see help on the command including examples of usage (use the command line argument -Examples to see examples):\n"
   ]
  },
  {
   "cell_type": "code",
   "execution_count": null,
   "metadata": {
    "vscode": {
     "languageId": "powershell"
    }
   },
   "outputs": [],
   "source": [
    "Get-Help Get-IntersightComputePhysicalSummary"
   ]
  },
  {
   "cell_type": "markdown",
   "metadata": {},
   "source": [
    "### Query the API for specific data\n",
    "\n",
    "Intersight provides a query language to filter, select, and perform many other operations on API resources.  The query language allows the user to get only the data they want from the API without the need to post process results.  This can be very useful for API responses that possibly return a large amount of data like `Get-IntersightComputePhysicalSummary`.  Details on the query language are available at https://intersight.com/apidocs/introduction/query/#filter-query-option-filtering-the-resources and the Get-Help command showed how to perform queries using PowerShell:\n",
    "\n",
    "`Get-IntersightComputePhysicalSummary [-At <string>] [-Tags <string>] [-Orderby <string>] [-Skip <integer>] [-Top <integer>] [-Filter <string>] [-Count <boolean>] [-Expand <string>] [-Inlinecount <string>] [-Select <string>] [-Apply <string>] [<CommonParameters>]`"
   ]
  },
  {
   "cell_type": "markdown",
   "metadata": {},
   "source": [
    "#### Getting the number of physical compute devices claimed in Intersight\n",
    "\n",
    "The API has limits on the number of resources returned from any call, so there are count options that can be used to determine the total number of matching resources.  The `-Count` option will return a count of matching resources in the API (not the resources themselves) and `-InlineCount` will return both the count and the resources.  Below we will get a count of resources."
   ]
  },
  {
   "cell_type": "code",
   "execution_count": null,
   "metadata": {
    "vscode": {
     "languageId": "powershell"
    }
   },
   "outputs": [],
   "source": [
    "Get-IntersightComputePhysicalSummary -Count $true\n"
   ]
  },
  {
   "cell_type": "markdown",
   "metadata": {},
   "source": [
    "Now will we get the count and print select fields from the returned resources."
   ]
  },
  {
   "cell_type": "code",
   "execution_count": null,
   "metadata": {
    "vscode": {
     "languageId": "powershell"
    }
   },
   "outputs": [],
   "source": [
    "$results = Get-IntersightComputePhysicalSummary -InlineCount allpages\n",
    "if ($results.Count -gt 0) {\n",
    "    Write-Host \"Count of compute resources is\" $results.Count\n",
    "    foreach ($res in $results.Results) {\n",
    "        $res | Select-Object Name, Serial, Model\n",
    "    }\n",
    "}"
   ]
  },
  {
   "cell_type": "markdown",
   "metadata": {},
   "source": [
    "### Get a filtered list of of physical compute devices claimed in Intersight\n",
    "\n",
    "We'll finish our query examples by using `-Filter` to get only the compute resources will Model numbers that contain the string 'B200'."
   ]
  },
  {
   "cell_type": "code",
   "execution_count": null,
   "metadata": {
    "vscode": {
     "languageId": "powershell"
    }
   },
   "outputs": [],
   "source": [
    "$results = Get-IntersightComputePhysicalSummary -Filter \"contains(Model, B200)\"\n",
    "foreach ($res in $results.Results) {\n",
    "    $res | Select-Object Name, Serial, Model\n",
    "}\n"
   ]
  },
  {
   "cell_type": "markdown",
   "metadata": {},
   "source": [
    "## Configure Resources\n",
    "\n",
    "We've walked through retrieving data with Get cmdlets, and now we'll look at configuring resources with cmdlets to create resources (`New-`), update (`Set-`), and delete (`Remove-`).  We'll do this for a Server Profile, so we'll start by looking at Server Profile cmdlets."
   ]
  },
  {
   "cell_type": "code",
   "execution_count": null,
   "metadata": {
    "vscode": {
     "languageId": "powershell"
    }
   },
   "outputs": [],
   "source": [
    "Get-Command -Module Intersight.PowerShell | Select-String ServerProfile"
   ]
  },
  {
   "cell_type": "markdown",
   "metadata": {},
   "source": [
    "### Create a new Server Profile\n",
    "\n",
    "New- cmdlets will be used to create resources.  You can see usages and examples of creating a Server Profile with Get-Help "
   ]
  },
  {
   "cell_type": "code",
   "execution_count": null,
   "metadata": {
    "vscode": {
     "languageId": "powershell"
    }
   },
   "outputs": [],
   "source": [
    "Get-Help New-IntersightServerProfile"
   ]
  },
  {
   "cell_type": "markdown",
   "metadata": {},
   "source": [
    "In this example we'll be creating a Server Profile in the Demo-DevNet organization of the Interisght account, so we'll get the object for that Organization and use it will the new profile.  We'll also get the properties of each object we create to see information about the Organization being used and Server Profile that is created."
   ]
  },
  {
   "cell_type": "code",
   "execution_count": null,
   "metadata": {
    "vscode": {
     "languageId": "powershell"
    }
   },
   "outputs": [],
   "source": [
    "($org = Get-IntersightOrganizationOrganization -Name Demo-DevNet) | Get-Member -MemberType Property"
   ]
  },
  {
   "cell_type": "code",
   "execution_count": null,
   "metadata": {
    "vscode": {
     "languageId": "powershell"
    }
   },
   "outputs": [],
   "source": [
    "($prof = New-IntersightServerProfile -Name CLiveDevNet -Organization $org) | Get-Member -MemberType Property"
   ]
  },
  {
   "cell_type": "markdown",
   "metadata": {},
   "source": [
    "### Update a Server Profile\n",
    "\n",
    "We have a new Server Profile created in Intersight and represented by the $prof variable in PowerShell.  We can update the Server Profile in Intersight with the `Set-IntersightServerProfile` cmdlet.  Below we add Tags and a Description to the Server Profile we created above.  Note that `Initialize-` cmdlets can be used to create objects like Tags to be used in later operations."
   ]
  },
  {
   "cell_type": "code",
   "execution_count": null,
   "metadata": {
    "vscode": {
     "languageId": "powershell"
    }
   },
   "outputs": [],
   "source": [
    "($tags = Initialize-IntersightMoTag -Key \"Location\" -Value  \"Vegas\") | Write-Host"
   ]
  },
  {
   "cell_type": "code",
   "execution_count": null,
   "metadata": {
    "vscode": {
     "languageId": "powershell"
    }
   },
   "outputs": [],
   "source": [
    "$prof = ($prof | Set-IntersightServerProfile -Description 'Vegas' -Tags @($tags))\n",
    "Write-Host \"Tags:\" $prof.Tags \"Description:\" $prof.Description"
   ]
  },
  {
   "cell_type": "markdown",
   "metadata": {},
   "source": [
    "### Delete a Server Profile\n",
    "\n",
    "As a final example of managing Server Profiles with PowerShell, we will delete the profile created and updated above with the `Remove-IntersightServerProfile` cmdlet."
   ]
  },
  {
   "cell_type": "code",
   "execution_count": null,
   "metadata": {
    "vscode": {
     "languageId": "powershell"
    }
   },
   "outputs": [],
   "source": [
    "($prof | Remove-IntersightServerProfile)\n",
    "Write-Host $?"
   ]
  },
  {
   "cell_type": "markdown",
   "metadata": {},
   "source": [
    "You've now completed an overview of the Cisco Intersight module for PowerShell.  Be sure to visit https://developer.cisco.com/site/intersight/ for additional information on automating with Intersight."
   ]
  }
 ],
 "metadata": {
  "kernelspec": {
   "display_name": ".NET (PowerShell)",
   "language": "PowerShell",
   "name": ".net-powershell"
  },
  "language_info": {
   "file_extension": ".ps1",
   "mimetype": "text/x-powershell",
   "name": "PowerShell",
   "pygments_lexer": "powershell",
   "version": "7.0"
  }
 },
 "nbformat": 4,
 "nbformat_minor": 4
}
